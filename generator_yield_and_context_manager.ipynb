{
 "cells": [
  {
   "cell_type": "markdown",
   "metadata": {},
   "source": [
    "# Generator using yield"
   ]
  },
  {
   "cell_type": "code",
   "execution_count": 1,
   "metadata": {},
   "outputs": [],
   "source": [
    "text = [\"happy world\",\"good guys\", \"smart staffs\", \"well done!\"]"
   ]
  },
  {
   "cell_type": "code",
   "execution_count": 2,
   "metadata": {},
   "outputs": [],
   "source": [
    "def transform(string):\n",
    "    return string.upper()"
   ]
  },
  {
   "cell_type": "code",
   "execution_count": 3,
   "metadata": {},
   "outputs": [],
   "source": [
    "def text_gen(sentences):\n",
    "    while True:\n",
    "        result = transform(sentences)\n",
    "        yield result"
   ]
  },
  {
   "cell_type": "code",
   "execution_count": 4,
   "metadata": {},
   "outputs": [
    {
     "name": "stdout",
     "output_type": "stream",
     "text": [
      "HAPPY WORLD\n",
      "GOOD GUYS\n",
      "SMART STAFFS\n",
      "WELL DONE!\n"
     ]
    }
   ],
   "source": [
    "for i in range(4):\n",
    "    print(next(text_gen(text[i])))"
   ]
  },
  {
   "cell_type": "markdown",
   "metadata": {},
   "source": [
    "# context manager"
   ]
  },
  {
   "cell_type": "code",
   "execution_count": 10,
   "metadata": {},
   "outputs": [
    {
     "name": "stdout",
     "output_type": "stream",
     "text": [
      "True\n"
     ]
    }
   ],
   "source": [
    "# file management using  context manager\n",
    "\n",
    "class FileManager():\n",
    "\tdef __init__(self, filename, mode):\n",
    "\t\tself.filename = filename\n",
    "\t\tself.mode = mode\n",
    "\t\tself.file = None\n",
    "\t\t\n",
    "\tdef __enter__(self):\n",
    "\t\tself.file = open(self.filename, self.mode)\n",
    "\t\treturn self.file\n",
    "\t\n",
    "\tdef __exit__(self, exc_type, exc_value, exc_traceback):\n",
    "\t\tself.file.close()\n",
    "\n",
    "# loading a file\n",
    "with FileManager('test.txt', 'w') as f:\n",
    "\tf.write(str(text))\n",
    "\n",
    "print(f.closed)\n"
   ]
  },
  {
   "cell_type": "code",
   "execution_count": null,
   "metadata": {},
   "outputs": [],
   "source": [
    "# connection management for MongoDB\n",
    "\n",
    "from pymongo import MongoClient\n",
    "\n",
    "class MongoDBConnectionManager():\n",
    "\tdef __init__(self, hostname, port):\n",
    "\t\tself.hostname = hostname\n",
    "\t\tself.port = port\n",
    "\t\tself.connection = None\n",
    "\n",
    "\tdef __enter__(self):\n",
    "\t\tself.connection = MongoClient(self.hostname, self.port)\n",
    "\t\treturn self\n",
    "\n",
    "\tdef __exit__(self, exc_type, exc_value, exc_traceback):\n",
    "\t\tself.connection.close()\n",
    "\n",
    "# connecting with a localhost\n",
    "with MongoDBConnectionManager('localhost', '27017') as mongo:\n",
    "\tcollection = mongo.connection.SampleDb.test\n",
    "\tdata = collection.find({'_id': 4})\n",
    "\tprint(data.get('name'))\n"
   ]
  },
  {
   "cell_type": "code",
   "execution_count": 9,
   "metadata": {},
   "outputs": [],
   "source": [
    "class Reader:\n",
    "    def __init__(self,filename,mode):\n",
    "        self.filename = filename\n",
    "        self.mode = mode\n",
    "        self.file =None\n",
    "        \n",
    "    def __enter__(self):\n",
    "        self.file = open(self.filename, self.mode)\n",
    "        return self.file\n",
    "    \n",
    "    def __exit__(self, exc_type, exc_value, exc_traceback):\n",
    "        self.file.close()\n",
    "        "
   ]
  },
  {
   "cell_type": "code",
   "execution_count": 12,
   "metadata": {},
   "outputs": [
    {
     "name": "stdout",
     "output_type": "stream",
     "text": [
      "['happy world', 'good guys', 'smart staffs', 'well done!']\n",
      "True\n"
     ]
    }
   ],
   "source": [
    "with Reader(\"test.txt\", \"r+\") as f:\n",
    "    print(f.read())\n",
    "    \n",
    "print(f.closed)"
   ]
  },
  {
   "cell_type": "markdown",
   "metadata": {},
   "source": [
    "**Russell C.**"
   ]
  }
 ],
 "metadata": {
  "interpreter": {
   "hash": "13a602431b9a595b809c97e5b77a0856994e1118892ba1ddf3b0976b39494768"
  },
  "kernelspec": {
   "display_name": "Python 3.9.7 64-bit ('base': conda)",
   "language": "python",
   "name": "python3"
  },
  "language_info": {
   "codemirror_mode": {
    "name": "ipython",
    "version": 3
   },
   "file_extension": ".py",
   "mimetype": "text/x-python",
   "name": "python",
   "nbconvert_exporter": "python",
   "pygments_lexer": "ipython3",
   "version": "3.9.7"
  },
  "orig_nbformat": 4
 },
 "nbformat": 4,
 "nbformat_minor": 2
}
